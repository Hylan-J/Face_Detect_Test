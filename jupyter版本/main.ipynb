{
 "cells": [
  {
   "cell_type": "markdown",
   "id": "beed9ef3",
   "metadata": {},
   "source": [
    "# 1、导入相关库"
   ]
  },
  {
   "cell_type": "code",
   "execution_count": 1,
   "id": "84fdfefc",
   "metadata": {},
   "outputs": [],
   "source": [
    "import cv2\n",
    "import dlib\n",
    "import time\n",
    "import matplotlib.pyplot as plt"
   ]
  },
  {
   "cell_type": "markdown",
   "id": "6079fd59",
   "metadata": {},
   "source": [
    "# 2、函数编写"
   ]
  },
  {
   "cell_type": "markdown",
   "id": "b29e96a6",
   "metadata": {},
   "source": [
    "### 2.1、函数：抽象出各个人脸检测器的检测功能（input：frame—>output：faces）"
   ]
  },
  {
   "cell_type": "code",
   "execution_count": 3,
   "id": "f3e93b2f",
   "metadata": {},
   "outputs": [],
   "source": [
    "opencv_haarcascade_detector = cv2.CascadeClassifier(\"haarcascade_frontalface_default.xml\")\n",
    "\n",
    "def opencv_haarcascade(frame):\n",
    "    faces = opencv_haarcascade_detector.detectMultiScale(frame)\n",
    "    return faces"
   ]
  },
  {
   "cell_type": "code",
   "execution_count": 4,
   "id": "768ca211",
   "metadata": {},
   "outputs": [],
   "source": [
    "dlib_hog_detector = dlib.get_frontal_face_detector()\n",
    "\n",
    "def dlib_hog(frame):\n",
    "    faces = dlib_hog_detector(frame, 1)\n",
    "    return faces"
   ]
  },
  {
   "cell_type": "markdown",
   "id": "0baeacab",
   "metadata": {},
   "source": [
    "### 2.2、函数：测试人脸检测器性能"
   ]
  },
  {
   "cell_type": "code",
   "execution_count": 2,
   "id": "53a3258b",
   "metadata": {},
   "outputs": [],
   "source": [
    "def test_detector_performance(video_path, detector_type):\n",
    "    result = dict()\n",
    "    result['fps'] = 0\n",
    "    result['accuracy'] = 0\n",
    "\n",
    "    fps_count = []\n",
    "    frame_count = 0\n",
    "    face_detected_frame_count = 0\n",
    "    cap = cv2.VideoCapture(video_path)\n",
    "    while True:\n",
    "        ret, frame = cap.read()\n",
    "        if ret:\n",
    "            frame_count += 1\n",
    "            start_time = time.time()\n",
    "            faces = globals()[detector_type](frame)\n",
    "            end_time = time.time()\n",
    "            fps_count.append(1 / (end_time - start_time))\n",
    "            if len(faces) > 0:\n",
    "                face_detected_frame_count += 1\n",
    "        else:\n",
    "            result['accuracy'] = face_detected_frame_count / frame_count\n",
    "            result['fps'] = sum(fps_count) / len(fps_count)\n",
    "            return result"
   ]
  },
  {
   "cell_type": "markdown",
   "id": "a716517a",
   "metadata": {},
   "source": [
    "### 2.3、函数：结果可视化"
   ]
  },
  {
   "cell_type": "code",
   "execution_count": 5,
   "id": "31269140",
   "metadata": {},
   "outputs": [],
   "source": [
    "def visualize(results, types):\n",
    "    fig, (ax1, ax2) = plt.subplots(1, 2)\n",
    "    # 绘制第一个子图 - \"fps比较\"\n",
    "    ax1.bar(range(len(results['fps'])), results['fps'], color='blue')\n",
    "    ax1.set_xticks(range(len(results['fps'])))\n",
    "    ax1.set_xticklabels(types)\n",
    "    ax1.set_ylabel(\"fps\")\n",
    "    ax1.set_title(\"FPS Compare\")\n",
    "    \n",
    "    # 绘制第二个子图 - \"准确率比较\"\n",
    "    ax2.bar(range(len(results['accuracy'])), results['accuracy'], color='green')\n",
    "    ax2.set_xticks(range(len(results['accuracy'])))\n",
    "    ax2.set_xticklabels(types)\n",
    "    ax2.set_ylabel(\"accuracy\")\n",
    "    ax2.set_title(\"Accuracy Compare\")\n",
    "    \n",
    "    # 调整子图之间的间距\n",
    "    plt.tight_layout()\n",
    "\n",
    "    # 展示图形\n",
    "    plt.show()"
   ]
  },
  {
   "cell_type": "markdown",
   "id": "b70863a4",
   "metadata": {},
   "source": [
    "### 2.4、函数：自动测试"
   ]
  },
  {
   "cell_type": "code",
   "execution_count": 6,
   "id": "b9bae5d7",
   "metadata": {},
   "outputs": [],
   "source": [
    "def auto_test(video_path, detector_types):\n",
    "    results = dict()\n",
    "    results['fps']=[]\n",
    "    results['accuracy']=[]\n",
    "    \n",
    "    used_type = []\n",
    "    for type in detector_types:\n",
    "        used_type.append(type)\n",
    "        result = test_detector_performance(\"out.avi\",type)\n",
    "        results['fps'].append(result['fps'])\n",
    "        results['accuracy'].append(result['accuracy'])\n",
    "    print(results)\n",
    "    \n",
    "    visualize(results, used_type)"
   ]
  },
  {
   "cell_type": "markdown",
   "id": "82892ac2",
   "metadata": {},
   "source": [
    "# 3、开始测试"
   ]
  },
  {
   "cell_type": "code",
   "execution_count": 7,
   "id": "a8545b15",
   "metadata": {},
   "outputs": [
    {
     "name": "stdout",
     "output_type": "stream",
     "text": [
      "{'fps': [33.59155445531904, 5.5922699057537315], 'accuracy': [1.0, 1.0]}\n"
     ]
    },
    {
     "data": {
      "image/png": "[encoded data removed]",
      "text/plain": [
       "<Figure size 640x480 with 2 Axes>"
      ]
     },
     "metadata": {},
     "output_type": "display_data"
    }
   ],
   "source": [
    "if __name__ == '__main__':\n",
    "    video_path = \"out.avi\"\n",
    "    detector_types = [\"opencv_haarcascade\", \"dlib_hog\"]\n",
    "    auto_test(video_path,detector_types)"
   ]
  }
 ],
 "metadata": {
  "kernelspec": {
   "display_name": "Python 3 (ipykernel)",
   "language": "python",
   "name": "python3"
  },
  "language_info": {
   "codemirror_mode": {
    "name": "ipython",
    "version": 3
   },
   "file_extension": ".py",
   "mimetype": "text/x-python",
   "name": "python",
   "nbconvert_exporter": "python",
   "pygments_lexer": "ipython3",
   "version": "3.7.16"
  }
 },
 "nbformat": 4,
 "nbformat_minor": 5
}
